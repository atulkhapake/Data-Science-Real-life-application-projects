{
 "cells": [
  {
   "cell_type": "markdown",
   "id": "183454ba",
   "metadata": {},
   "source": [
    "## Pyomo :- \n",
    "Python Base Open Source optimization language.it provides a flexible and powerful way to formulate and solve mathematical optimization problems such as linear programming(LP) mixed integer programming(MIP) non linear programming(NLP) \n",
    "1. Modeling capabilities : It allows to use high level algebric syntax\n",
    "2. Solver Integration : Interface with wide range of solvers e.g CPLX Gubobi GLPK\n"
   ]
  },
  {
   "cell_type": "code",
   "execution_count": 1,
   "id": "c5bc55b0",
   "metadata": {},
   "outputs": [
    {
     "name": "stdout",
     "output_type": "stream",
     "text": [
      "Defaulting to user installation because normal site-packages is not writeable\n",
      "Requirement already satisfied: Pyomo==6.4.2 in c:\\users\\admin\\appdata\\roaming\\python\\python39\\site-packages (6.4.2)\n",
      "Requirement already satisfied: ply in c:\\users\\admin\\appdata\\roaming\\python\\python39\\site-packages (from Pyomo==6.4.2) (3.11)\n"
     ]
    }
   ],
   "source": [
    "!pip install Pyomo==6.4.2"
   ]
  },
  {
   "cell_type": "code",
   "execution_count": 13,
   "id": "7cbcb130",
   "metadata": {},
   "outputs": [],
   "source": [
    "import pyomo.environ as pyo\n",
    "from pyomo.environ import *\n",
    "from pyomo.opt import SolverFactory\n",
    "import numpy as np"
   ]
  },
  {
   "cell_type": "code",
   "execution_count": 3,
   "id": "9ed10c93",
   "metadata": {},
   "outputs": [],
   "source": [
    "model=pyo.ConcreteModel()"
   ]
  },
  {
   "cell_type": "code",
   "execution_count": 4,
   "id": "488380c8",
   "metadata": {},
   "outputs": [],
   "source": [
    "model.x=pyo.Var(bounds=(0,10)) #bounds should be tuples not arrayes"
   ]
  },
  {
   "cell_type": "code",
   "execution_count": 5,
   "id": "16167e3f",
   "metadata": {},
   "outputs": [],
   "source": [
    "model.y=pyo.Var(bounds=(0,10))"
   ]
  },
  {
   "cell_type": "code",
   "execution_count": 6,
   "id": "7d35501c",
   "metadata": {},
   "outputs": [],
   "source": [
    "x=model.x\n",
    "y=model.y"
   ]
  },
  {
   "cell_type": "markdown",
   "id": "60167dc3",
   "metadata": {},
   "source": [
    "## problem 1\n",
    "* Equation \n",
    "1. -x+2y<=8\n",
    "2. 2x+y<=14\n",
    "3. 2x-y<=10\n"
   ]
  },
  {
   "cell_type": "code",
   "execution_count": 7,
   "id": "6e4faef4",
   "metadata": {},
   "outputs": [],
   "source": [
    "model.C1=pyo.Constraint(expr=-x+2*y<=8)\n",
    "model.C2=pyo.Constraint(expr=2*x+y<=14)\n",
    "model.C3=pyo.Constraint(expr=2*x-y<=10)\n"
   ]
  },
  {
   "cell_type": "code",
   "execution_count": 8,
   "id": "205fcc8d",
   "metadata": {},
   "outputs": [],
   "source": [
    "model.obj=pyo.Objective(expr=x+y,sense=maximize)"
   ]
  },
  {
   "cell_type": "markdown",
   "id": "b2583a85",
   "metadata": {},
   "source": [
    "## CBC\n",
    "1. CBC (Coin-OR branch and cut) is an open source mixed integer linear programming solver \n",
    "2. It is designed to handel optimization problems where some of the variables are constrained to take integer values"
   ]
  },
  {
   "cell_type": "code",
   "execution_count": 9,
   "id": "85feed4c",
   "metadata": {},
   "outputs": [],
   "source": [
    "opt=SolverFactory('cbc',executable='C:\\\\cbc\\\\bin\\\\cbc.exe')"
   ]
  },
  {
   "cell_type": "code",
   "execution_count": 10,
   "id": "b5aa1330",
   "metadata": {},
   "outputs": [
    {
     "data": {
      "text/plain": [
       "{'Problem': [{'Name': 'unknown', 'Lower bound': 10.0, 'Upper bound': 10.0, 'Number of objectives': 1, 'Number of constraints': 4, 'Number of variables': 3, 'Number of nonzeros': 2, 'Sense': 'maximize'}], 'Solver': [{'Status': 'ok', 'User time': -1.0, 'System time': 0.01, 'Wallclock time': 0.01, 'Termination condition': 'optimal', 'Termination message': 'Model was solved to optimality (subject to tolerances), and an optimal solution is available.', 'Statistics': {'Branch and bound': {'Number of bounded subproblems': None, 'Number of created subproblems': None}, 'Black box': {'Number of iterations': 2}}, 'Error rc': 0, 'Time': 5.292758941650391}], 'Solution': [OrderedDict([('number of solutions', 0), ('number of solutions displayed', 0)])]}"
      ]
     },
     "execution_count": 10,
     "metadata": {},
     "output_type": "execute_result"
    }
   ],
   "source": [
    "opt.solve(model)"
   ]
  },
  {
   "cell_type": "code",
   "execution_count": 11,
   "id": "26de9412",
   "metadata": {},
   "outputs": [
    {
     "name": "stdout",
     "output_type": "stream",
     "text": [
      "2 Var Declarations\n",
      "    x : Size=1, Index=None\n",
      "        Key  : Lower : Value : Upper : Fixed : Stale : Domain\n",
      "        None :     0 :   4.0 :    10 : False : False :  Reals\n",
      "    y : Size=1, Index=None\n",
      "        Key  : Lower : Value : Upper : Fixed : Stale : Domain\n",
      "        None :     0 :   6.0 :    10 : False : False :  Reals\n",
      "\n",
      "1 Objective Declarations\n",
      "    obj : Size=1, Index=None, Active=True\n",
      "        Key  : Active : Sense    : Expression\n",
      "        None :   True : maximize : x + y\n",
      "\n",
      "3 Constraint Declarations\n",
      "    C1 : Size=1, Index=None, Active=True\n",
      "        Key  : Lower : Body      : Upper : Active\n",
      "        None :  -Inf : - x + 2*y :   8.0 :   True\n",
      "    C2 : Size=1, Index=None, Active=True\n",
      "        Key  : Lower : Body    : Upper : Active\n",
      "        None :  -Inf : 2*x + y :  14.0 :   True\n",
      "    C3 : Size=1, Index=None, Active=True\n",
      "        Key  : Lower : Body    : Upper : Active\n",
      "        None :  -Inf : 2*x - y :  10.0 :   True\n",
      "\n",
      "6 Declarations: x y C1 C2 C3 obj\n"
     ]
    }
   ],
   "source": [
    "model.pprint()\n",
    "x_value=pyo.value(x)\n",
    "y_value=pyo.value(y)\n"
   ]
  },
  {
   "cell_type": "markdown",
   "id": "ffc28c4c",
   "metadata": {},
   "source": [
    "* Solution"
   ]
  },
  {
   "cell_type": "code",
   "execution_count": 12,
   "id": "fb006e18",
   "metadata": {},
   "outputs": [
    {
     "name": "stdout",
     "output_type": "stream",
     "text": [
      "x= 4.0\n",
      "y= 6.0\n"
     ]
    }
   ],
   "source": [
    "print('x=',x_value)\n",
    "print('y=',y_value)"
   ]
  },
  {
   "cell_type": "markdown",
   "id": "480b0627",
   "metadata": {},
   "source": [
    "## problem 2\n",
    "1. min -4x-2y\n",
    "2. x+y<=8\n",
    "3. 8x+3y>=-24\n",
    "4. -6x+8y<=48\n",
    "5. 3x+5y<=15\n",
    "6. x<=3\n",
    "7. y>=0"
   ]
  },
  {
   "cell_type": "code",
   "execution_count": 16,
   "id": "8f51ecac",
   "metadata": {},
   "outputs": [],
   "source": [
    "\n",
    "model=pyo.ConcreteModel()\n",
    "\n",
    "model.x=pyo.Var(bounds=(-np.inf,3)) \n",
    "model.y=pyo.Var(bounds=(0,np.inf))\n",
    "\n"
   ]
  },
  {
   "cell_type": "code",
   "execution_count": 17,
   "id": "3c7b7f13",
   "metadata": {},
   "outputs": [],
   "source": [
    "x=model.x\n",
    "y=model.y"
   ]
  },
  {
   "cell_type": "code",
   "execution_count": 18,
   "id": "1779bbeb",
   "metadata": {},
   "outputs": [],
   "source": [
    "model.C1=pyo.Constraint(expr=x+y<=8)\n",
    "model.C2=pyo.Constraint(expr=8*x+3*y<=-24)\n",
    "model.C3=pyo.Constraint(expr=-6*x+8*y<=48)\n",
    "model.C4=pyo.Constraint(expr=3*x+5*y<=15)\n",
    "model.obj=pyo.Objective(expr=-4*x-2*y,sense=maximize)\n"
   ]
  },
  {
   "cell_type": "markdown",
   "id": "17ea87ec",
   "metadata": {},
   "source": [
    "## GLPK\n",
    "\n",
    "1. GLPK  (GNU linear programming kit) is an open source linear programming and mixed integer programming solver\n",
    "2. It is desigend to solve large scale optimization problems efficiently"
   ]
  },
  {
   "cell_type": "code",
   "execution_count": 19,
   "id": "f7aaa0e9",
   "metadata": {},
   "outputs": [
    {
     "data": {
      "text/plain": [
       "{'Problem': [{'Name': 'unknown', 'Lower bound': 32.0, 'Upper bound': 32.0, 'Number of objectives': 1, 'Number of constraints': 5, 'Number of variables': 3, 'Number of nonzeros': 9, 'Sense': 'maximize'}], 'Solver': [{'Status': 'ok', 'Termination condition': 'optimal', 'Statistics': {'Branch and bound': {'Number of bounded subproblems': 0, 'Number of created subproblems': 0}}, 'Error rc': 0, 'Time': 0.23294281959533691}], 'Solution': [OrderedDict([('number of solutions', 0), ('number of solutions displayed', 0)])]}"
      ]
     },
     "execution_count": 19,
     "metadata": {},
     "output_type": "execute_result"
    }
   ],
   "source": [
    "opt=SolverFactory('glpk')\n",
    "opt.solve(model)"
   ]
  },
  {
   "cell_type": "code",
   "execution_count": 21,
   "id": "12ddb467",
   "metadata": {},
   "outputs": [
    {
     "name": "stdout",
     "output_type": "stream",
     "text": [
      "2 Var Declarations\n",
      "    x : Size=1, Index=None\n",
      "        Key  : Lower : Value : Upper : Fixed : Stale : Domain\n",
      "        None :  None :  -8.0 :     3 : False : False :  Reals\n",
      "    y : Size=1, Index=None\n",
      "        Key  : Lower : Value : Upper : Fixed : Stale : Domain\n",
      "        None :     0 :   0.0 :  None : False : False :  Reals\n",
      "\n",
      "1 Objective Declarations\n",
      "    obj : Size=1, Index=None, Active=True\n",
      "        Key  : Active : Sense    : Expression\n",
      "        None :   True : maximize : -4*x - 2*y\n",
      "\n",
      "4 Constraint Declarations\n",
      "    C1 : Size=1, Index=None, Active=True\n",
      "        Key  : Lower : Body  : Upper : Active\n",
      "        None :  -Inf : x + y :   8.0 :   True\n",
      "    C2 : Size=1, Index=None, Active=True\n",
      "        Key  : Lower : Body      : Upper : Active\n",
      "        None :  -Inf : 8*x + 3*y : -24.0 :   True\n",
      "    C3 : Size=1, Index=None, Active=True\n",
      "        Key  : Lower : Body       : Upper : Active\n",
      "        None :  -Inf : -6*x + 8*y :  48.0 :   True\n",
      "    C4 : Size=1, Index=None, Active=True\n",
      "        Key  : Lower : Body      : Upper : Active\n",
      "        None :  -Inf : 3*x + 5*y :  15.0 :   True\n",
      "\n",
      "7 Declarations: x y C1 C2 C3 C4 obj\n"
     ]
    }
   ],
   "source": [
    "model.pprint()"
   ]
  },
  {
   "cell_type": "markdown",
   "id": "1e1dece8",
   "metadata": {},
   "source": [
    "* Solution"
   ]
  },
  {
   "cell_type": "code",
   "execution_count": 22,
   "id": "dcf368ac",
   "metadata": {},
   "outputs": [
    {
     "name": "stdout",
     "output_type": "stream",
     "text": [
      "x= -8.0\n",
      "y= 0.0\n"
     ]
    }
   ],
   "source": [
    "\n",
    "x_value=pyo.value(x)\n",
    "y_value=pyo.value(y)\n",
    "print('x=',x_value)\n",
    "print('y=',y_value)"
   ]
  },
  {
   "cell_type": "markdown",
   "id": "af622cb3",
   "metadata": {},
   "source": [
    "## problem 3"
   ]
  },
  {
   "cell_type": "code",
   "execution_count": 23,
   "id": "e053191b",
   "metadata": {},
   "outputs": [],
   "source": [
    "import pandas as pd\n",
    "dataGen=pd.read_excel('C:/Users/Admin/Downloads/inputs.xlsx',sheet_name='gen')\n",
    "dataload=pd.read_excel('C:/Users/Admin/Downloads/inputs.xlsx',sheet_name='load')"
   ]
  },
  {
   "cell_type": "code",
   "execution_count": 24,
   "id": "482a5834",
   "metadata": {},
   "outputs": [
    {
     "data": {
      "text/html": [
       "<div>\n",
       "<style scoped>\n",
       "    .dataframe tbody tr th:only-of-type {\n",
       "        vertical-align: middle;\n",
       "    }\n",
       "\n",
       "    .dataframe tbody tr th {\n",
       "        vertical-align: top;\n",
       "    }\n",
       "\n",
       "    .dataframe thead th {\n",
       "        text-align: right;\n",
       "    }\n",
       "</style>\n",
       "<table border=\"1\" class=\"dataframe\">\n",
       "  <thead>\n",
       "    <tr style=\"text-align: right;\">\n",
       "      <th></th>\n",
       "      <th>id</th>\n",
       "      <th>limit</th>\n",
       "      <th>cost</th>\n",
       "    </tr>\n",
       "  </thead>\n",
       "  <tbody>\n",
       "    <tr>\n",
       "      <th>0</th>\n",
       "      <td>0</td>\n",
       "      <td>20</td>\n",
       "      <td>0.10</td>\n",
       "    </tr>\n",
       "    <tr>\n",
       "      <th>1</th>\n",
       "      <td>1</td>\n",
       "      <td>10</td>\n",
       "      <td>0.05</td>\n",
       "    </tr>\n",
       "    <tr>\n",
       "      <th>2</th>\n",
       "      <td>2</td>\n",
       "      <td>40</td>\n",
       "      <td>0.30</td>\n",
       "    </tr>\n",
       "    <tr>\n",
       "      <th>3</th>\n",
       "      <td>3</td>\n",
       "      <td>50</td>\n",
       "      <td>0.40</td>\n",
       "    </tr>\n",
       "    <tr>\n",
       "      <th>4</th>\n",
       "      <td>4</td>\n",
       "      <td>5</td>\n",
       "      <td>0.01</td>\n",
       "    </tr>\n",
       "  </tbody>\n",
       "</table>\n",
       "</div>"
      ],
      "text/plain": [
       "   id  limit  cost\n",
       "0   0     20  0.10\n",
       "1   1     10  0.05\n",
       "2   2     40  0.30\n",
       "3   3     50  0.40\n",
       "4   4      5  0.01"
      ]
     },
     "execution_count": 24,
     "metadata": {},
     "output_type": "execute_result"
    }
   ],
   "source": [
    "dataGen"
   ]
  },
  {
   "cell_type": "code",
   "execution_count": 25,
   "id": "17eeb4a7",
   "metadata": {},
   "outputs": [
    {
     "data": {
      "text/html": [
       "<div>\n",
       "<style scoped>\n",
       "    .dataframe tbody tr th:only-of-type {\n",
       "        vertical-align: middle;\n",
       "    }\n",
       "\n",
       "    .dataframe tbody tr th {\n",
       "        vertical-align: top;\n",
       "    }\n",
       "\n",
       "    .dataframe thead th {\n",
       "        text-align: right;\n",
       "    }\n",
       "</style>\n",
       "<table border=\"1\" class=\"dataframe\">\n",
       "  <thead>\n",
       "    <tr style=\"text-align: right;\">\n",
       "      <th></th>\n",
       "      <th>id</th>\n",
       "      <th>value</th>\n",
       "    </tr>\n",
       "  </thead>\n",
       "  <tbody>\n",
       "    <tr>\n",
       "      <th>0</th>\n",
       "      <td>0</td>\n",
       "      <td>50</td>\n",
       "    </tr>\n",
       "    <tr>\n",
       "      <th>1</th>\n",
       "      <td>1</td>\n",
       "      <td>20</td>\n",
       "    </tr>\n",
       "    <tr>\n",
       "      <th>2</th>\n",
       "      <td>2</td>\n",
       "      <td>30</td>\n",
       "    </tr>\n",
       "  </tbody>\n",
       "</table>\n",
       "</div>"
      ],
      "text/plain": [
       "   id  value\n",
       "0   0     50\n",
       "1   1     20\n",
       "2   2     30"
      ]
     },
     "execution_count": 25,
     "metadata": {},
     "output_type": "execute_result"
    }
   ],
   "source": [
    "dataload"
   ]
  },
  {
   "cell_type": "code",
   "execution_count": 26,
   "id": "291ec1cd",
   "metadata": {},
   "outputs": [
    {
     "data": {
      "text/html": [
       "<div>\n",
       "<style scoped>\n",
       "    .dataframe tbody tr th:only-of-type {\n",
       "        vertical-align: middle;\n",
       "    }\n",
       "\n",
       "    .dataframe tbody tr th {\n",
       "        vertical-align: top;\n",
       "    }\n",
       "\n",
       "    .dataframe thead th {\n",
       "        text-align: right;\n",
       "    }\n",
       "</style>\n",
       "<table border=\"1\" class=\"dataframe\">\n",
       "  <thead>\n",
       "    <tr style=\"text-align: right;\">\n",
       "      <th></th>\n",
       "      <th>id</th>\n",
       "      <th>limit</th>\n",
       "      <th>cost</th>\n",
       "    </tr>\n",
       "  </thead>\n",
       "  <tbody>\n",
       "    <tr>\n",
       "      <th>0</th>\n",
       "      <td>0</td>\n",
       "      <td>20</td>\n",
       "      <td>0.10</td>\n",
       "    </tr>\n",
       "    <tr>\n",
       "      <th>1</th>\n",
       "      <td>1</td>\n",
       "      <td>10</td>\n",
       "      <td>0.05</td>\n",
       "    </tr>\n",
       "    <tr>\n",
       "      <th>2</th>\n",
       "      <td>2</td>\n",
       "      <td>40</td>\n",
       "      <td>0.30</td>\n",
       "    </tr>\n",
       "    <tr>\n",
       "      <th>3</th>\n",
       "      <td>3</td>\n",
       "      <td>50</td>\n",
       "      <td>0.40</td>\n",
       "    </tr>\n",
       "    <tr>\n",
       "      <th>4</th>\n",
       "      <td>4</td>\n",
       "      <td>5</td>\n",
       "      <td>0.01</td>\n",
       "    </tr>\n",
       "  </tbody>\n",
       "</table>\n",
       "</div>"
      ],
      "text/plain": [
       "   id  limit  cost\n",
       "0   0     20  0.10\n",
       "1   1     10  0.05\n",
       "2   2     40  0.30\n",
       "3   3     50  0.40\n",
       "4   4      5  0.01"
      ]
     },
     "execution_count": 26,
     "metadata": {},
     "output_type": "execute_result"
    }
   ],
   "source": [
    "pd.read_excel('inputs.xlsx')"
   ]
  },
  {
   "cell_type": "code",
   "execution_count": 27,
   "id": "e3f13d71",
   "metadata": {},
   "outputs": [],
   "source": [
    "Ng=len(dataGen)"
   ]
  },
  {
   "cell_type": "code",
   "execution_count": 28,
   "id": "83f38ef8",
   "metadata": {},
   "outputs": [
    {
     "data": {
      "text/plain": [
       "5"
      ]
     },
     "execution_count": 28,
     "metadata": {},
     "output_type": "execute_result"
    }
   ],
   "source": [
    "Ng"
   ]
  },
  {
   "cell_type": "code",
   "execution_count": 29,
   "id": "e29c3eb8",
   "metadata": {},
   "outputs": [],
   "source": [
    "model=pyo.ConcreteModel()"
   ]
  },
  {
   "cell_type": "code",
   "execution_count": 30,
   "id": "8db1d07e",
   "metadata": {},
   "outputs": [
    {
     "name": "stdout",
     "output_type": "stream",
     "text": [
      "Pg : Size=5, Index=Pg_index\n",
      "    Key : Lower : Value : Upper : Fixed : Stale : Domain\n",
      "      0 :     0 :  None :  None : False :  True :  Reals\n",
      "      1 :     0 :  None :  None : False :  True :  Reals\n",
      "      2 :     0 :  None :  None : False :  True :  Reals\n",
      "      3 :     0 :  None :  None : False :  True :  Reals\n",
      "      4 :     0 :  None :  None : False :  True :  Reals\n"
     ]
    }
   ],
   "source": [
    "model.Pg=pyo.Var(range(Ng),bounds=(0,None))\n",
    "model.Pg.pprint()"
   ]
  },
  {
   "cell_type": "code",
   "execution_count": 31,
   "id": "2bdb1b15",
   "metadata": {},
   "outputs": [],
   "source": [
    "Pg=model.Pg"
   ]
  },
  {
   "cell_type": "code",
   "execution_count": 32,
   "id": "08d9a839",
   "metadata": {},
   "outputs": [
    {
     "data": {
      "text/plain": [
       "<pyomo.core.expr.numeric_expr.SumExpression at 0x21ad645e380>"
      ]
     },
     "execution_count": 32,
     "metadata": {},
     "output_type": "execute_result"
    }
   ],
   "source": [
    "#constraints\n",
    "pg_sum=sum([Pg[g] for g in dataGen.id])\n",
    "pg_sum"
   ]
  },
  {
   "cell_type": "code",
   "execution_count": 33,
   "id": "d0898f4c",
   "metadata": {},
   "outputs": [],
   "source": [
    "model.balance=pyo.Constraint(expr=pg_sum==sum(dataload.value))  #load=demand\n",
    "model.cond=pyo.Constraint(expr=Pg[0]+Pg[3]>=dataload.value[0])"
   ]
  },
  {
   "cell_type": "code",
   "execution_count": 34,
   "id": "dc0e1770",
   "metadata": {},
   "outputs": [
    {
     "data": {
      "text/plain": [
       "[50, 20, 30]"
      ]
     },
     "execution_count": 34,
     "metadata": {},
     "output_type": "execute_result"
    }
   ],
   "source": [
    "[dataload.value[d] for d in dataload.id]"
   ]
  },
  {
   "cell_type": "code",
   "execution_count": 35,
   "id": "15e3e2b1",
   "metadata": {},
   "outputs": [
    {
     "name": "stdout",
     "output_type": "stream",
     "text": [
      "Pg[0] + Pg[1] + Pg[2] + Pg[3] + Pg[4]\n"
     ]
    }
   ],
   "source": [
    "print(sum([Pg[g] for g in dataGen.id]))"
   ]
  },
  {
   "cell_type": "code",
   "execution_count": 36,
   "id": "89f9cbf8",
   "metadata": {},
   "outputs": [
    {
     "data": {
      "text/plain": [
       "0    20\n",
       "1    10\n",
       "2    40\n",
       "3    50\n",
       "4     5\n",
       "Name: limit, dtype: int64"
      ]
     },
     "execution_count": 36,
     "metadata": {},
     "output_type": "execute_result"
    }
   ],
   "source": [
    "dataGen.limit"
   ]
  },
  {
   "cell_type": "code",
   "execution_count": 37,
   "id": "3af1cd53",
   "metadata": {},
   "outputs": [],
   "source": [
    "model.limits=pyo.ConstraintList()\n",
    "for g in dataGen.id:\n",
    "    model.limits.add(expr=Pg[g]<=dataGen.limit[g])"
   ]
  },
  {
   "cell_type": "code",
   "execution_count": 38,
   "id": "dd58a51b",
   "metadata": {},
   "outputs": [
    {
     "name": "stdout",
     "output_type": "stream",
     "text": [
      "2 Set Declarations\n",
      "    Pg_index : Size=1, Index=None, Ordered=Insertion\n",
      "        Key  : Dimen : Domain : Size : Members\n",
      "        None :     1 :    Any :    5 : {0, 1, 2, 3, 4}\n",
      "    limits_index : Size=1, Index=None, Ordered=Insertion\n",
      "        Key  : Dimen : Domain : Size : Members\n",
      "        None :     1 :    Any :    5 : {1, 2, 3, 4, 5}\n",
      "\n",
      "1 Var Declarations\n",
      "    Pg : Size=5, Index=Pg_index\n",
      "        Key : Lower : Value : Upper : Fixed : Stale : Domain\n",
      "          0 :     0 :  None :  None : False :  True :  Reals\n",
      "          1 :     0 :  None :  None : False :  True :  Reals\n",
      "          2 :     0 :  None :  None : False :  True :  Reals\n",
      "          3 :     0 :  None :  None : False :  True :  Reals\n",
      "          4 :     0 :  None :  None : False :  True :  Reals\n",
      "\n",
      "3 Constraint Declarations\n",
      "    balance : Size=1, Index=None, Active=True\n",
      "        Key  : Lower : Body                                  : Upper : Active\n",
      "        None : 100.0 : Pg[0] + Pg[1] + Pg[2] + Pg[3] + Pg[4] : 100.0 :   True\n",
      "    cond : Size=1, Index=None, Active=True\n",
      "        Key  : Lower : Body          : Upper : Active\n",
      "        None :  50.0 : Pg[0] + Pg[3] :  +Inf :   True\n",
      "    limits : Size=5, Index=limits_index, Active=True\n",
      "        Key : Lower : Body  : Upper : Active\n",
      "          1 :  -Inf : Pg[0] :  20.0 :   True\n",
      "          2 :  -Inf : Pg[1] :  10.0 :   True\n",
      "          3 :  -Inf : Pg[2] :  40.0 :   True\n",
      "          4 :  -Inf : Pg[3] :  50.0 :   True\n",
      "          5 :  -Inf : Pg[4] :   5.0 :   True\n",
      "\n",
      "6 Declarations: Pg_index Pg balance cond limits_index limits\n"
     ]
    }
   ],
   "source": [
    "model.pprint()"
   ]
  },
  {
   "cell_type": "code",
   "execution_count": 40,
   "id": "cddf61e5",
   "metadata": {},
   "outputs": [
    {
     "data": {
      "text/plain": [
       "0.8600000000000001"
      ]
     },
     "execution_count": 40,
     "metadata": {},
     "output_type": "execute_result"
    }
   ],
   "source": [
    "sum([dataGen.cost[g] for g in dataGen.id]) #this will give sum of cost of a list corresponding to the id"
   ]
  },
  {
   "cell_type": "code",
   "execution_count": 41,
   "id": "defb30ed",
   "metadata": {},
   "outputs": [],
   "source": [
    "#obj fun\n",
    "\n",
    "model.obj=pyo.Objective(expr=sum([Pg[g]*dataGen.cost[g] for g in dataGen.id]))"
   ]
  },
  {
   "cell_type": "code",
   "execution_count": 42,
   "id": "7e801058",
   "metadata": {},
   "outputs": [],
   "source": [
    "opt=SolverFactory('glpk')"
   ]
  },
  {
   "cell_type": "code",
   "execution_count": 43,
   "id": "3691e019",
   "metadata": {},
   "outputs": [],
   "source": [
    "results=opt.solve(model)"
   ]
  },
  {
   "cell_type": "code",
   "execution_count": 44,
   "id": "0747e8c5",
   "metadata": {},
   "outputs": [],
   "source": [
    "dataGen['Pg']=[pyo.value(Pg[g]) for g in dataGen.id]"
   ]
  },
  {
   "cell_type": "code",
   "execution_count": 45,
   "id": "e3cad43d",
   "metadata": {},
   "outputs": [
    {
     "name": "stdout",
     "output_type": "stream",
     "text": [
      "   id  limit  cost    Pg\n",
      "0   0     20  0.10  20.0\n",
      "1   1     10  0.05  10.0\n",
      "2   2     40  0.30  35.0\n",
      "3   3     50  0.40  30.0\n",
      "4   4      5  0.01   5.0\n"
     ]
    }
   ],
   "source": [
    "print(dataGen)"
   ]
  },
  {
   "cell_type": "markdown",
   "id": "6caf83ad",
   "metadata": {},
   "source": [
    "* Solution"
   ]
  },
  {
   "cell_type": "code",
   "execution_count": 46,
   "id": "0089e155",
   "metadata": {},
   "outputs": [
    {
     "name": "stdout",
     "output_type": "stream",
     "text": [
      "\n",
      "Problem: \n",
      "- Name: unknown\n",
      "  Lower bound: 25.05\n",
      "  Upper bound: 25.05\n",
      "  Number of objectives: 1\n",
      "  Number of constraints: 8\n",
      "  Number of variables: 6\n",
      "  Number of nonzeros: 13\n",
      "  Sense: minimize\n",
      "Solver: \n",
      "- Status: ok\n",
      "  Termination condition: optimal\n",
      "  Statistics: \n",
      "    Branch and bound: \n",
      "      Number of bounded subproblems: 0\n",
      "      Number of created subproblems: 0\n",
      "  Error rc: 0\n",
      "  Time: 0.06153583526611328\n",
      "Solution: \n",
      "- number of solutions: 0\n",
      "  number of solutions displayed: 0\n",
      "\n"
     ]
    }
   ],
   "source": [
    "print(results)"
   ]
  }
 ],
 "metadata": {
  "kernelspec": {
   "display_name": "Python 3 (ipykernel)",
   "language": "python",
   "name": "python3"
  },
  "language_info": {
   "codemirror_mode": {
    "name": "ipython",
    "version": 3
   },
   "file_extension": ".py",
   "mimetype": "text/x-python",
   "name": "python",
   "nbconvert_exporter": "python",
   "pygments_lexer": "ipython3",
   "version": "3.9.13"
  }
 },
 "nbformat": 4,
 "nbformat_minor": 5
}
